{
 "cells": [
  {
   "cell_type": "code",
   "execution_count": 39,
   "metadata": {},
   "outputs": [
    {
     "name": "stdout",
     "output_type": "stream",
     "text": [
      "[nltk_data] Downloading package punkt to /home/ronnald/nltk_data...\n",
      "[nltk_data]   Package punkt is already up-to-date!\n"
     ]
    },
    {
     "data": {
      "text/plain": [
       "True"
      ]
     },
     "execution_count": 39,
     "metadata": {},
     "output_type": "execute_result"
    }
   ],
   "source": [
    "from os import listdir\n",
    "from os.path import isfile, join\n",
    "import gensim\n",
    "from gensim.models.doc2vec import TaggedDocument\n",
    "import nltk\n",
    "from nltk.tokenize import word_tokenize\n",
    "nltk.download('punkt')"
   ]
  },
  {
   "cell_type": "code",
   "execution_count": 65,
   "metadata": {},
   "outputs": [],
   "source": [
    "data = ['oi']\n",
    "file = open(\"test/1.txt\",\"r\")\n",
    "data.append(file.read())\n",
    "file.close()"
   ]
  },
  {
   "cell_type": "code",
   "execution_count": 66,
   "metadata": {},
   "outputs": [
    {
     "data": {
      "text/plain": [
       "['oi',\n",
       " 'Microsoft submitted initial material to Ecma International Technical Committee TC45, where it was standardized to become ECMA-376, approved in December 2006.[13]\\n\\nThis standard was then fast-tracked in the Joint Technical Committee 1 of ISO and IEC. After initially failing to pass, an amended version of the format received the necessary votes for approval as an ISO/IEC Standard as the result of a JTC 1 fast-tracking standardization process that concluded in April 2008.[14] The resulting four-part International Standard (designated ISO/IEC 29500:2008) was published in November 2008[15] and can be downloaded from the ITTF.[16] A technically equivalent set of texts is published by Ecma as ECMA-376 Office Open XML File Formats—2nd edition (December 2008); they can be downloaded from their web site.[17]\\n\\nThe ISO standardization of Office Open XML was controversial and embittered,[18] with much discussion both about the specification and about the standardization process.[19] According to InfoWorld:']"
      ]
     },
     "execution_count": 66,
     "metadata": {},
     "output_type": "execute_result"
    }
   ],
   "source": [
    "\n",
    "data"
   ]
  },
  {
   "cell_type": "code",
   "execution_count": 67,
   "metadata": {},
   "outputs": [],
   "source": [
    "tagged_data = [TaggedDocument(words=word_tokenize(_d.lower()), tags=[str(i)]) for i, _d in enumerate(data)]"
   ]
  },
  {
   "cell_type": "code",
   "execution_count": 68,
   "metadata": {},
   "outputs": [
    {
     "data": {
      "text/plain": [
       "[TaggedDocument(words=['oi'], tags=['0']),\n",
       " TaggedDocument(words=['microsoft', 'submitted', 'initial', 'material', 'to', 'ecma', 'international', 'technical', 'committee', 'tc45', ',', 'where', 'it', 'was', 'standardized', 'to', 'become', 'ecma-376', ',', 'approved', 'in', 'december', '2006', '.', '[', '13', ']', 'this', 'standard', 'was', 'then', 'fast-tracked', 'in', 'the', 'joint', 'technical', 'committee', '1', 'of', 'iso', 'and', 'iec', '.', 'after', 'initially', 'failing', 'to', 'pass', ',', 'an', 'amended', 'version', 'of', 'the', 'format', 'received', 'the', 'necessary', 'votes', 'for', 'approval', 'as', 'an', 'iso/iec', 'standard', 'as', 'the', 'result', 'of', 'a', 'jtc', '1', 'fast-tracking', 'standardization', 'process', 'that', 'concluded', 'in', 'april', '2008', '.', '[', '14', ']', 'the', 'resulting', 'four-part', 'international', 'standard', '(', 'designated', 'iso/iec', '29500:2008', ')', 'was', 'published', 'in', 'november', '2008', '[', '15', ']', 'and', 'can', 'be', 'downloaded', 'from', 'the', 'ittf', '.', '[', '16', ']', 'a', 'technically', 'equivalent', 'set', 'of', 'texts', 'is', 'published', 'by', 'ecma', 'as', 'ecma-376', 'office', 'open', 'xml', 'file', 'formats—2nd', 'edition', '(', 'december', '2008', ')', ';', 'they', 'can', 'be', 'downloaded', 'from', 'their', 'web', 'site', '.', '[', '17', ']', 'the', 'iso', 'standardization', 'of', 'office', 'open', 'xml', 'was', 'controversial', 'and', 'embittered', ',', '[', '18', ']', 'with', 'much', 'discussion', 'both', 'about', 'the', 'specification', 'and', 'about', 'the', 'standardization', 'process', '.', '[', '19', ']', 'according', 'to', 'infoworld', ':'], tags=['1'])]"
      ]
     },
     "execution_count": 68,
     "metadata": {},
     "output_type": "execute_result"
    }
   ],
   "source": [
    "tagged_data"
   ]
  },
  {
   "cell_type": "code",
   "execution_count": 71,
   "metadata": {},
   "outputs": [
    {
     "name": "stdout",
     "output_type": "stream",
     "text": [
      "oi\n",
      "Microsoft submitted initial material to Ecma International Technical Committee TC45, where it was standardized to become ECMA-376, approved in December 2006.[13]\n",
      "\n",
      "This standard was then fast-tracked in the Joint Technical Committee 1 of ISO and IEC. After initially failing to pass, an amended version of the format received the necessary votes for approval as an ISO/IEC Standard as the result of a JTC 1 fast-tracking standardization process that concluded in April 2008.[14] The resulting four-part International Standard (designated ISO/IEC 29500:2008) was published in November 2008[15] and can be downloaded from the ITTF.[16] A technically equivalent set of texts is published by Ecma as ECMA-376 Office Open XML File Formats—2nd edition (December 2008); they can be downloaded from their web site.[17]\n",
      "\n",
      "The ISO standardization of Office Open XML was controversial and embittered,[18] with much discussion both about the specification and about the standardization process.[19] According to InfoWorld:\n"
     ]
    }
   ],
   "source": [
    "for i, _d in enumerate(data):\n",
    "    print(_d)\n"
   ]
  },
  {
   "cell_type": "code",
   "execution_count": null,
   "metadata": {},
   "outputs": [],
   "source": []
  },
  {
   "cell_type": "code",
   "execution_count": null,
   "metadata": {},
   "outputs": [],
   "source": []
  }
 ],
 "metadata": {
  "kernelspec": {
   "display_name": "Python 3",
   "language": "python",
   "name": "python3"
  },
  "language_info": {
   "codemirror_mode": {
    "name": "ipython",
    "version": 3
   },
   "file_extension": ".py",
   "mimetype": "text/x-python",
   "name": "python",
   "nbconvert_exporter": "python",
   "pygments_lexer": "ipython3",
   "version": "3.6.5"
  }
 },
 "nbformat": 4,
 "nbformat_minor": 2
}
