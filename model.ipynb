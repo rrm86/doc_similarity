{
 "cells": [
  {
   "cell_type": "code",
   "execution_count": 2,
   "metadata": {},
   "outputs": [
    {
     "name": "stdout",
     "output_type": "stream",
     "text": [
      "[nltk_data] Downloading package punkt to /home/ronnald/nltk_data...\n",
      "[nltk_data]   Package punkt is already up-to-date!\n"
     ]
    },
    {
     "data": {
      "text/plain": [
       "True"
      ]
     },
     "execution_count": 2,
     "metadata": {},
     "output_type": "execute_result"
    }
   ],
   "source": [
    "from os import listdir\n",
    "from os.path import isfile, join\n",
    "import gensim\n",
    "from gensim.models.doc2vec import Doc2Vec, TaggedDocument\n",
    "import nltk\n",
    "from nltk.tokenize import word_tokenize\n",
    "import pickle\n",
    "from gensim.similarities import MatrixSimilarity\n",
    "from gensim.summarization.summarizer import summarize\n",
    "nltk.download('punkt')"
   ]
  },
  {
   "cell_type": "code",
   "execution_count": 3,
   "metadata": {},
   "outputs": [],
   "source": [
    "with open('label_content', 'rb') as f:\n",
    "    labelContent = pickle.load(f)"
   ]
  },
  {
   "cell_type": "code",
   "execution_count": 4,
   "metadata": {},
   "outputs": [],
   "source": [
    "tagged_data = [TaggedDocument(words=word_tokenize(content.lower()), tags=[str(label)]) for label, content in labelContent.items()]"
   ]
  },
  {
   "cell_type": "code",
   "execution_count": 5,
   "metadata": {},
   "outputs": [],
   "source": [
    "#tagged_data"
   ]
  },
  {
   "cell_type": "code",
   "execution_count": 6,
   "metadata": {},
   "outputs": [
    {
     "name": "stdout",
     "output_type": "stream",
     "text": [
      "iteration 0\n",
      "iteration 1\n",
      "iteration 2\n",
      "iteration 3\n",
      "iteration 4\n",
      "iteration 5\n",
      "iteration 6\n",
      "iteration 7\n",
      "iteration 8\n",
      "iteration 9\n"
     ]
    }
   ],
   "source": [
    "max_epochs = 10\n",
    "vec_size = 100#neurons\n",
    "alpha = 0.025\n",
    "window = 3\n",
    "\n",
    "model = Doc2Vec(vector_size=vec_size,\n",
    "                alpha=alpha, \n",
    "                min_alpha=0.00025,\n",
    "                min_count=1,\n",
    "                dm =1,\n",
    "                window = window)\n",
    "  \n",
    "model.build_vocab(tagged_data)\n",
    "\n",
    "for epoch in range(max_epochs):\n",
    "    print('iteration {0}'.format(epoch))\n",
    "    model.train(tagged_data,\n",
    "                total_examples=model.corpus_count,\n",
    "                epochs=model.epochs)\n",
    "    # decrease the learning rate\n",
    "    model.alpha -= 0.0002\n",
    "    # fix the learning rate, no decay\n",
    "    #model.min_alpha = model.alpha"
   ]
  },
  {
   "cell_type": "code",
   "execution_count": 7,
   "metadata": {},
   "outputs": [],
   "source": [
    "def parseRelations(doc,most_similar):\n",
    "    #Get top 5\n",
    "    docRelation[doc] = {}\n",
    "    for i in range(0,5):\n",
    "        doc2,rel = most_similar[i]\n",
    "        docRelation[doc][doc2]={'weight':rel}"
   ]
  },
  {
   "cell_type": "code",
   "execution_count": 18,
   "metadata": {},
   "outputs": [
    {
     "name": "stderr",
     "output_type": "stream",
     "text": [
      "/home/ronnald/dev/lib/python3.5/site-packages/gensim/matutils.py:737: FutureWarning: Conversion of the second argument of issubdtype from `int` to `np.signedinteger` is deprecated. In future, it will be treated as `np.int64 == np.dtype(int).type`.\n",
      "  if np.issubdtype(vec.dtype, np.int):\n"
     ]
    }
   ],
   "source": [
    "#vou transformar docReletion em um dicionario. Melhor para o networkx\n",
    "docRelation ={}\n",
    "for i in range(0,len(tagged_data)):\n",
    "    if(model.docvecs.most_similar(i)[0][1] > 0.65):\n",
    "        parseRelations(str(tagged_data[i][1][0]),model.docvecs.most_similar(i))\n",
    "        \n",
    "with open('graph', 'wb') as f:\n",
    "        pickle.dump(docRelation, f)\n"
   ]
  },
  {
   "cell_type": "code",
   "execution_count": 16,
   "metadata": {},
   "outputs": [
    {
     "data": {
      "text/plain": [
       "{'2017-1-181811': {'weight': 0.6938132047653198},\n",
       " '2017-1-181837': {'weight': 0.6023962497711182},\n",
       " '2017-2-257030': {'weight': 0.5769040584564209},\n",
       " '2017-2-257738': {'weight': 0.6235027313232422},\n",
       " '2018-2-350197': {'weight': 0.5882359743118286}}"
      ]
     },
     "execution_count": 16,
     "metadata": {},
     "output_type": "execute_result"
    }
   ],
   "source": [
    "docRelation['2017-2-261451']"
   ]
  },
  {
   "cell_type": "code",
   "execution_count": 17,
   "metadata": {},
   "outputs": [],
   "source": [
    "\n",
    "#https://stackoverflow.com/questions/39455741/gcc-error-trying-to-exec-cc1plus-execvp-no-such-file-or-directory"
   ]
  },
  {
   "cell_type": "code",
   "execution_count": 10,
   "metadata": {},
   "outputs": [],
   "source": [
    "with open('label_sentence', 'rb') as f:\n",
    "    labelSentence = pickle.load(f)"
   ]
  },
  {
   "cell_type": "code",
   "execution_count": 21,
   "metadata": {},
   "outputs": [
    {
     "name": "stdout",
     "output_type": "stream",
     "text": [
      "Essa imposicao das crencas pessoais sobre o outro, como se elas fossem uma verdade absoluta, que nao pode ser contestada, e o fundamentalismo.\n",
      "Essa repressao e esse preconceito contra diferentes religioes e seus cultos faz com que muitos nao se sintam a vontade para expressar sua fe e se declararem parte de algum grupo religioso.\n",
      "Muitas pessoas seguem a religiao que sua familia faz parte, so por tradicao, o que e muito comum nas familias catolicas.\n",
      "Na minha opiniao, nao e um problema que a religiao seja heranca familiar, mas e um problema que ela seja imposta, sem que a pessoa possa procurar e conhecer outras religioes e entao decidir qual delas e mais adequada a seus valores.\n"
     ]
    }
   ],
   "source": [
    "print(summarize(labelSentence[\"2017-2-261451\"],ratio=0.2))"
   ]
  },
  {
   "cell_type": "code",
   "execution_count": 22,
   "metadata": {},
   "outputs": [
    {
     "name": "stdout",
     "output_type": "stream",
     "text": [
      "Ha tambem pessoas que aderiram a outras religioes por diversos motivos como: localizacao geografica e afinidade com a doutrina, pois muitas vezes existe a influencia familiar que determina a religiao.\n",
      "Ao mesmo tempo que a diversidade religiosa propicia liberdade para que a pessoa possa escolher o caminho a ser seguido, isso traz intolerancia por parte de algumas pessoas que julgam que a sua religiao e melhor do que a do outro.\n",
      "Porem, quanto a intolerancia, as pessoas que nao tem uma opiniao formada sobre  determinada religiao acabam acatando a falta de respeito dos grupos intolerantes.\n"
     ]
    }
   ],
   "source": [
    "print(summarize(labelSentence[\"2017-1-181811\"],ratio=0.2))"
   ]
  },
  {
   "cell_type": "code",
   "execution_count": null,
   "metadata": {},
   "outputs": [],
   "source": []
  },
  {
   "cell_type": "code",
   "execution_count": null,
   "metadata": {},
   "outputs": [],
   "source": []
  }
 ],
 "metadata": {
  "kernelspec": {
   "display_name": "Python 3",
   "language": "python",
   "name": "python3"
  },
  "language_info": {
   "codemirror_mode": {
    "name": "ipython",
    "version": 3
   },
   "file_extension": ".py",
   "mimetype": "text/x-python",
   "name": "python",
   "nbconvert_exporter": "python",
   "pygments_lexer": "ipython3",
   "version": "3.5.2"
  }
 },
 "nbformat": 4,
 "nbformat_minor": 2
}
