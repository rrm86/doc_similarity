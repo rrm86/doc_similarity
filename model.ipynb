{
 "cells": [
  {
   "cell_type": "code",
   "execution_count": 1,
   "metadata": {},
   "outputs": [
    {
     "name": "stdout",
     "output_type": "stream",
     "text": [
      "[nltk_data] Downloading package punkt to /home/ronnald/nltk_data...\n",
      "[nltk_data]   Package punkt is already up-to-date!\n"
     ]
    },
    {
     "data": {
      "text/plain": [
       "True"
      ]
     },
     "execution_count": 1,
     "metadata": {},
     "output_type": "execute_result"
    }
   ],
   "source": [
    "from os import listdir\n",
    "from os.path import isfile, join\n",
    "import gensim\n",
    "from gensim.models.doc2vec import Doc2Vec, TaggedDocument\n",
    "import nltk\n",
    "from nltk.tokenize import word_tokenize\n",
    "import pickle\n",
    "from gensim.similarities import MatrixSimilarity\n",
    "from gensim.summarization.summarizer import summarize\n",
    "nltk.download('punkt')"
   ]
  },
  {
   "cell_type": "code",
   "execution_count": 2,
   "metadata": {},
   "outputs": [],
   "source": [
    "with open('label_content', 'rb') as f:\n",
    "    labelContent = pickle.load(f)"
   ]
  },
  {
   "cell_type": "code",
   "execution_count": 3,
   "metadata": {},
   "outputs": [],
   "source": [
    "tagged_data = [TaggedDocument(words=word_tokenize(content.lower()), tags=[str(label)]) for label, content in labelContent.items()]"
   ]
  },
  {
   "cell_type": "code",
   "execution_count": null,
   "metadata": {},
   "outputs": [],
   "source": [
    "tagged_data"
   ]
  },
  {
   "cell_type": "code",
   "execution_count": 4,
   "metadata": {},
   "outputs": [
    {
     "name": "stdout",
     "output_type": "stream",
     "text": [
      "iteration 0\n",
      "iteration 1\n",
      "iteration 2\n",
      "iteration 3\n",
      "iteration 4\n",
      "iteration 5\n",
      "iteration 6\n",
      "iteration 7\n",
      "iteration 8\n",
      "iteration 9\n"
     ]
    }
   ],
   "source": [
    "max_epochs = 10\n",
    "vec_size = 100#neurons\n",
    "alpha = 0.025\n",
    "window = 3\n",
    "\n",
    "model = Doc2Vec(vector_size=vec_size,\n",
    "                alpha=alpha, \n",
    "                min_alpha=0.00025,\n",
    "                min_count=1,\n",
    "                dm =1,\n",
    "                window = window)\n",
    "  \n",
    "model.build_vocab(tagged_data)\n",
    "\n",
    "for epoch in range(max_epochs):\n",
    "    print('iteration {0}'.format(epoch))\n",
    "    model.train(tagged_data,\n",
    "                total_examples=model.corpus_count,\n",
    "                epochs=model.epochs)\n",
    "    # decrease the learning rate\n",
    "    model.alpha -= 0.0002\n",
    "    # fix the learning rate, no decay\n",
    "    #model.min_alpha = model.alpha"
   ]
  },
  {
   "cell_type": "code",
   "execution_count": 9,
   "metadata": {},
   "outputs": [],
   "source": [
    "def parseRelations(doc,most_similar):\n",
    "    #Get top 5\n",
    "    for i in range(0,5):\n",
    "        doc2,rel = most_similar[i]\n",
    "        line = doc+\"|\"+doc2+\"|\"+str(rel)\n",
    "        print(line)\n",
    "        docRelation.append(line)"
   ]
  },
  {
   "cell_type": "code",
   "execution_count": 14,
   "metadata": {},
   "outputs": [
    {
     "name": "stderr",
     "output_type": "stream",
     "text": [
      "/home/ronnald/dev/lib/python3.5/site-packages/gensim/matutils.py:737: FutureWarning: Conversion of the second argument of issubdtype from `int` to `np.signedinteger` is deprecated. In future, it will be treated as `np.int64 == np.dtype(int).type`.\n",
      "  if np.issubdtype(vec.dtype, np.int):\n"
     ]
    },
    {
     "name": "stdout",
     "output_type": "stream",
     "text": [
      "2018-1-302032|2018-2-345180|0.81477952003479\n",
      "2018-1-302032|2017-1-181141|0.5555272698402405\n",
      "2018-1-302032|2017-2-261442|0.5405089855194092\n",
      "2018-1-302032|2017-2-257013|0.5207130908966064\n",
      "2018-1-302032|2018-2-350562|0.5103883743286133\n",
      "2017-2-257741|2017-1-182232|0.9824894070625305\n",
      "2017-2-257741|2017-2-257756|0.760252833366394\n",
      "2017-2-257741|2018-1-300658|0.6156792640686035\n",
      "2017-2-257741|2018-1-300631|0.6003718972206116\n",
      "2017-2-257741|2017-2-258453|0.5677851438522339\n",
      "2017-2-257000|2017-1-181141|0.8210999965667725\n",
      "2017-2-257000|2018-2-350190|0.6039031744003296\n",
      "2017-2-257000|2017-1-182239|0.5868603587150574\n",
      "2017-2-257000|2018-1-299278|0.5591777563095093\n",
      "2017-2-257000|2017-2-261446|0.5512678623199463\n",
      "2017-1-182262|2017-2-261435|0.9535461664199829\n",
      "2017-1-182262|2018-1-299276|0.5853732824325562\n",
      "2017-1-182262|2018-1-302064|0.5831055641174316\n",
      "2017-1-182262|2017-2-257739|0.581089973449707\n",
      "2017-1-182262|2017-1-182231|0.5795598030090332\n",
      "2017-1-182232|2017-2-257741|0.9824894070625305\n",
      "2017-1-182232|2017-2-257756|0.7634543180465698\n",
      "2017-1-182232|2018-1-300658|0.5923570394515991\n",
      "2017-1-182232|2018-1-300631|0.5894975662231445\n",
      "2017-1-182232|2018-1-300634|0.5722553730010986\n",
      "2017-1-181141|2017-2-257000|0.8210999965667725\n",
      "2017-1-181141|2017-2-257751|0.6250792741775513\n",
      "2017-1-181141|2018-2-346115|0.6214009523391724\n",
      "2017-1-181141|2017-2-261446|0.6199084520339966\n",
      "2017-1-181141|2018-1-302059|0.6116126775741577\n",
      "2017-2-261435|2017-1-182262|0.9535461664199829\n",
      "2017-2-261435|2017-2-261456|0.6261153817176819\n",
      "2017-2-261435|2018-1-299276|0.6223952770233154\n",
      "2017-2-261435|2017-1-182240|0.6159756183624268\n",
      "2017-2-261435|2017-1-182231|0.6037608981132507\n",
      "2018-2-345180|2018-1-302032|0.8147794604301453\n",
      "2018-2-345180|2017-2-257013|0.5988756418228149\n",
      "2018-2-345180|2017-1-181141|0.5919009447097778\n",
      "2018-2-345180|2018-1-301173|0.5589684844017029\n",
      "2018-2-345180|2018-2-350164|0.5436701774597168\n"
     ]
    }
   ],
   "source": [
    "#vou transformar docReletion em um dicionario. Melhor para o networkx\n",
    "docRelation =[]\n",
    "for i in range(0,len(tagged_data)):\n",
    "    if(model.docvecs.most_similar(i)[0][1] > 0.8):\n",
    "        parseRelations(str(tagged_data[i][1][0]),model.docvecs.most_similar(i))\n",
    "        \n",
    "with open('graph', 'wb') as f:\n",
    "        pickle.dump(docRelation, f)"
   ]
  },
  {
   "cell_type": "code",
   "execution_count": 7,
   "metadata": {},
   "outputs": [
    {
     "data": {
      "text/plain": [
       "2.506652095319885"
      ]
     },
     "execution_count": 7,
     "metadata": {},
     "output_type": "execute_result"
    }
   ],
   "source": [
    "model.wv.wmdistance(document1='2017-2-261435',document2='2017-1-182262')"
   ]
  },
  {
   "cell_type": "code",
   "execution_count": 13,
   "metadata": {},
   "outputs": [
    {
     "data": {
      "text/plain": [
       "2.144769657465015"
      ]
     },
     "execution_count": 13,
     "metadata": {},
     "output_type": "execute_result"
    }
   ],
   "source": [
    "model.wv.wmdistance(document1='2017-2-257028',document2='2017-1-182262')\n",
    "#https://stackoverflow.com/questions/39455741/gcc-error-trying-to-exec-cc1plus-execvp-no-such-file-or-directory"
   ]
  },
  {
   "cell_type": "code",
   "execution_count": 16,
   "metadata": {},
   "outputs": [],
   "source": [
    "with open('label_sentence', 'rb') as f:\n",
    "    labelSentence = pickle.load(f)"
   ]
  },
  {
   "cell_type": "code",
   "execution_count": 17,
   "metadata": {},
   "outputs": [
    {
     "name": "stdout",
     "output_type": "stream",
     "text": [
      "Infelizmente no Brasil e no mundo, muitas vezes as pessoas esquecem os valores da religiao e tem um preconceito baseado na sociedade, assim gerando a intolerancia e ate a violencia religiosa.\n",
      "Estas diferencas acabam gerando uma intolerancia, pois as pessoas tendem a pensar que o que elas acreditam e o certo, assim criam um preconceito contra pessoas de religioes diferentes de sua propria.\n",
      "No brasil infelizmente existe a intolerancia religiosa; podemos ver um exemplo disto com alguns pastores evangelicos que demonizam as religioes da umbanda e de origem africana.\n",
      "Podemos analisar isto e ver que mesmo com a maioria da populacao sendo catolica as pessoas vem mudando de religiao.\n",
      "Tambem acredito ser de extrema importancia o dialogo inter-religioso, evitando que uma religiao condene a outra; como acontece no Brasil de alguns grupos evangelicos contra as religioes africanas.\n"
     ]
    }
   ],
   "source": [
    "print(summarize(labelSentence[\"2017-1-182262\"],ratio=0.2))"
   ]
  },
  {
   "cell_type": "code",
   "execution_count": 18,
   "metadata": {},
   "outputs": [
    {
     "name": "stdout",
     "output_type": "stream",
     "text": [
      "Infelizmente no Brasil e no mundo, muitas vezes as pessoas esquecem os valores da religiao e tem um preconceito baseado na sociedade, assim gerando a intolerancia e ate a violencia religiosa.\n",
      "Estas diferencas acabam gerando uma intolerancia, pois as pessoas tendem a pensar que o que elas acreditam e o certo, assim criam um preconceito contra pessoas de religioes diferentes de sua propria.\n",
      "No Brasil infelizmente existe a intolerancia religiosa; podemos ver um exemplo disto com alguns pastores evangelicos que demonizam as religioes da umbanda e de origem africana.\n",
      "Tambem acredito ser de extrema importancia o dialogo inter-religioso, evitando que uma religiao condene a outra; como acontece no Brasil de alguns grupos evangelicos contra as religioes africanas.\n"
     ]
    }
   ],
   "source": [
    "print(summarize(labelSentence[\"2017-2-261435\"],ratio=0.2))"
   ]
  },
  {
   "cell_type": "code",
   "execution_count": null,
   "metadata": {},
   "outputs": [],
   "source": []
  },
  {
   "cell_type": "code",
   "execution_count": null,
   "metadata": {},
   "outputs": [],
   "source": []
  }
 ],
 "metadata": {
  "kernelspec": {
   "display_name": "Python 3",
   "language": "python",
   "name": "python3"
  },
  "language_info": {
   "codemirror_mode": {
    "name": "ipython",
    "version": 3
   },
   "file_extension": ".py",
   "mimetype": "text/x-python",
   "name": "python",
   "nbconvert_exporter": "python",
   "pygments_lexer": "ipython3",
   "version": "3.5.2"
  }
 },
 "nbformat": 4,
 "nbformat_minor": 2
}
