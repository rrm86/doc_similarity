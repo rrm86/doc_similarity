{
 "cells": [
  {
   "cell_type": "code",
   "execution_count": 1,
   "metadata": {},
   "outputs": [],
   "source": [
    "import pickle\n",
    "import matplotlib.pyplot as plt\n",
    "import networkx as nx"
   ]
  },
  {
   "cell_type": "code",
   "execution_count": 42,
   "metadata": {},
   "outputs": [],
   "source": [
    "with open('graph', 'rb') as f:\n",
    "    graph = pickle.load(f)"
   ]
  },
  {
   "cell_type": "code",
   "execution_count": 43,
   "metadata": {},
   "outputs": [],
   "source": [
    "d={'doc1': {'doc2': {'weight':1},\n",
    "            'doc3': {'weigth':1},\n",
    "            'doc4': {'weigth':10}\n",
    "           },\n",
    "   'doc2':{'doc3': {'weight':1}}\n",
    "  } \n",
    "G = nx.Graph(graph)\n"
   ]
  },
  {
   "cell_type": "code",
   "execution_count": 44,
   "metadata": {},
   "outputs": [
    {
     "data": {
      "text/plain": [
       "NodeView(('2017-2-255778', '2018-1-301412', '2017-2-258449', '2018-1-301174', '2017-1-181810', '2017-1-182177', '2017-1-182970', '2018-2-345176', '2018-1-302052', '2017-2-255790', '2017-2-257721', '2017-1-181833', '2017-1-182258', '2018-2-345191', '2017-2-256999', '2018-1-302067', '2017-2-257725', '2017-2-261440', '2018-1-301156', '2017-2-261448', '2017-1-181837', '2017-1-181811', '2017-2-255793', '2018-2-345189', '2018-2-350557', '2018-2-345209', '2018-1-301383', '2017-2-257011', '2018-1-302057', '2017-1-182231', '2017-1-182977', '2017-1-182983', '2017-1-182182', '2018-1-302055', '2017-2-261457', '2017-2-257730', '2017-2-257745', '2017-2-255779', '2018-1-302056', '2018-1-301410', '2018-1-300664', '2018-2-350195', '2018-2-350167', '2018-2-349624', '2018-1-301144', '2017-1-182240', '2017-2-261458', '2018-2-345198', '2017-2-257738', '2018-2-350547', '2017-2-257735', '2017-1-182238', '2018-2-349604', '2018-1-299250', '2018-2-345397', '2018-2-350558', '2018-1-300631', '2017-2-261456', '2017-1-181138', '2018-2-350198', '2017-1-181171', '2017-2-257731', '2017-2-257728', '2017-1-181809', '2018-2-350179', '2018-1-302064', '2017-2-257012', '2018-1-301396', '2018-2-346110', '2017-1-181153', '2017-2-258467', '2018-2-350559', '2017-2-257751', '2018-1-300658', '2018-1-301417', '2018-1-301382', '2018-1-300633', '2017-2-257025', '2018-1-302036', '2018-2-350188', '2018-1-301142', '2018-2-350190', '2018-2-349599', '2018-1-301419', '2017-2-261437', '2018-2-345174', '2017-2-261442', '2017-2-261435', '2017-1-181147', '2018-1-299276', '2018-2-350342', '2017-2-255805', '2017-2-257005', '2018-1-299258', '2018-2-345179', '2018-2-346133', '2018-2-349613', '2017-1-182954', '2018-2-350357', '2018-1-301145', '2017-2-261451', '2017-1-182190', '2018-1-301175', '2017-2-258471', '2017-1-181141', '2017-2-261445', '2018-1-300636', '2018-1-299275', '2018-2-346103', '2017-1-182963', '2017-2-257006', '2017-2-257027', '2018-1-299249', '2017-1-182953', '2017-2-257739', '2018-2-349634', '2017-2-257757', '2018-2-350177', '2018-2-346100', '2018-1-302032', '2018-1-301158', '2017-2-258472', '2017-2-257754', '2017-1-182252', '2017-2-255816', '2018-1-300643', '2018-1-301407', '2017-1-182254', '2018-1-301416', '2018-2-345180', '2017-1-182232', '2017-2-255784', '2018-1-302034', '2018-1-302035', '2018-1-301147', '2018-1-302058', '2018-2-345172', '2017-2-258453', '2018-2-350334', '2018-1-302044', '2017-1-182967', '2017-1-182176', '2017-2-257000', '2017-2-257741', '2018-1-301408', '2017-2-257756', '2018-2-349603', '2017-2-257022', '2018-1-302047', '2018-2-350197', '2017-1-182982', '2018-2-349611', '2017-2-257031', '2018-1-300653', '2018-1-301154', '2018-1-301177', '2018-1-301414', '2018-2-350181', '2017-2-257030', '2017-2-258470', '2018-2-345177', '2018-2-349602', '2017-2-255785', '2017-2-257017', '2018-1-299278', '2018-2-345192', '2017-1-182951', '2018-1-301165', '2018-2-350176', '2018-2-350539', '2018-2-350568', '2017-1-181172', '2017-1-182979', '2017-2-258464', '2017-2-257013', '2017-1-182262', '2018-2-345414', '2018-2-345412', '2017-1-181169', '2017-1-181840'))"
      ]
     },
     "execution_count": 44,
     "metadata": {},
     "output_type": "execute_result"
    }
   ],
   "source": [
    "G.nodes"
   ]
  },
  {
   "cell_type": "code",
   "execution_count": 51,
   "metadata": {},
   "outputs": [
    {
     "data": {
      "image/png": "[encoded data removed]",
      "text/plain": [
       "<Figure size 432x288 with 1 Axes>"
      ]
     },
     "metadata": {},
     "output_type": "display_data"
    },
    {
     "data": {
      "text/plain": [
       "<Figure size 3600x3600 with 0 Axes>"
      ]
     },
     "metadata": {},
     "output_type": "display_data"
    }
   ],
   "source": [
    "\n",
    "edges,weights = zip(*nx.get_edge_attributes(G,'weight').items())\n",
    "#nx.draw(G,pos=nx.spring_layout(G),edge_labels=labels)#with_labels=True\n",
    "#nx.draw(G, node_color='b', edgelist=edges, edge_color=weights, width=2.0, edge_cmap=plt.cm.Blues,node_size=20)\n",
    "#nx.draw_random(G, node_color='b', edgelist=edges, edge_color=weights, width=3.0, edge_cmap=plt.cm.Blues,node_size=300)\n",
    "#nx.draw_circular(G, node_color='b', edgelist=edges, edge_color=weights, width=1.0, edge_cmap=plt.cm.Blues,node_size=10)\n",
    "nx.draw_spectral(G, node_color='b', edgelist=edges, edge_color=weights, width=2.0, edge_cmap=plt.cm.Blues,node_size=20)\n",
    "#nx.draw_spring(G, node_color='b', edgelist=edges, edge_color=weights, width=2.0, edge_cmap=plt.cm.Blues,node_size=20)\n",
    "plt.figure(figsize=(50,50)) ;\n",
    "plt.draw() "
   ]
  },
  {
   "cell_type": "code",
   "execution_count": 8,
   "metadata": {},
   "outputs": [],
   "source": [
    "from bokeh.io import show, output_file\n",
    "from bokeh.plotting import figure\n",
    "from bokeh.models.graphs import from_networkx\n",
    "from bokeh.models import Plot, Range1d, MultiLine, Circle, HoverTool, BoxZoomTool, ResetTool"
   ]
  },
  {
   "cell_type": "code",
   "execution_count": 41,
   "metadata": {},
   "outputs": [],
   "source": [
    "plot = figure(title=\"Networkx Integration Demonstration\", x_range=(-2.1,2.1), y_range=(-2.1,2.1), tools=\"\", toolbar_location=None)\n",
    "graphOut = from_networkx(G, nx.spring_layout, scale=2, center=(0,0))\n",
    "node_hover_tool = HoverTool(tooltips=[(\"index\", \"@index\"), (\"club\", \"@club\")])\n",
    "plot.add_tools(node_hover_tool, BoxZoomTool(), ResetTool())\n",
    "plot.renderers.append(graphOut)\n",
    "output_file(\"networkx_graph.html\")\n",
    "show(plot)"
   ]
  },
  {
   "cell_type": "code",
   "execution_count": 121,
   "metadata": {},
   "outputs": [
    {
     "data": {
      "text/plain": [
       "(0.9476767778396606,\n",
       " 0.598151445388794,\n",
       " 0.5920310020446777,\n",
       " 0.5793975591659546,\n",
       " 0.5619028806686401,\n",
       " 0.8361032009124756,\n",
       " 0.5920007228851318,\n",
       " 0.591431736946106,\n",
       " 0.586325466632843,\n",
       " 0.5835629105567932,\n",
       " 0.5306313633918762,\n",
       " 0.9831390976905823,\n",
       " 0.7812432050704956,\n",
       " 0.6352699995040894,\n",
       " 0.6121566891670227,\n",
       " 0.6121134161949158,\n",
       " 0.7825295925140381,\n",
       " 0.634773850440979,\n",
       " 0.6223730444908142,\n",
       " 0.6122491955757141,\n",
       " 0.5895552635192871,\n",
       " 0.5634755492210388,\n",
       " 0.5627742409706116,\n",
       " 0.5553158521652222,\n",
       " 0.6161831617355347,\n",
       " 0.6110287308692932,\n",
       " 0.5915987491607666,\n",
       " 0.5910390019416809,\n",
       " 0.8071467876434326,\n",
       " 0.5484683513641357,\n",
       " 0.5444729328155518,\n",
       " 0.5386831760406494,\n",
       " 0.5542558431625366,\n",
       " 0.5504422187805176,\n",
       " 0.5372802019119263,\n",
       " 0.5356688499450684)"
      ]
     },
     "execution_count": 121,
     "metadata": {},
     "output_type": "execute_result"
    }
   ],
   "source": [
    "weights\n"
   ]
  },
  {
   "cell_type": "code",
   "execution_count": null,
   "metadata": {},
   "outputs": [],
   "source": []
  }
 ],
 "metadata": {
  "kernelspec": {
   "display_name": "Python 3",
   "language": "python",
   "name": "python3"
  },
  "language_info": {
   "codemirror_mode": {
    "name": "ipython",
    "version": 3
   },
   "file_extension": ".py",
   "mimetype": "text/x-python",
   "name": "python",
   "nbconvert_exporter": "python",
   "pygments_lexer": "ipython3",
   "version": "3.5.2"
  }
 },
 "nbformat": 4,
 "nbformat_minor": 2
}
