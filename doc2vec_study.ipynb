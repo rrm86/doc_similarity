{
 "cells": [
  {
   "cell_type": "code",
   "execution_count": null,
   "metadata": {},
   "outputs": [],
   "source": [
    "from gensim.models.doc2vec import Doc2Vec, TaggedDocument\n",
    "from nltk.tokenize import word_tokenize\n",
    "import nltk\n",
    "nltk.download('punkt')"
   ]
  },
  {
   "cell_type": "code",
   "execution_count": null,
   "metadata": {},
   "outputs": [],
   "source": [
    "data = [\"Tendo em vista os resultados obtidos é possível afirmar queo uso do doc2vec aliado ao cosseno de similaridade propor-ciona bons resultados na busca pela similaridade entre docu-mentos. Outra conclusão importante foi a constatação de quea similaridade de cosseno obteve um melhor desempenho secomparado ao word mover’s distance. Quanto ao algoritmode sumarização textrank, ficou claro que ele trabalha muitobem em conjunto com o doc2vec, fornecendo um resumo dodocumento alvo de forma eficiente. Para a visualização dosresultados obtidos a implementação de grafos se fez neces-sária e trouxe como bônus uma visão facilitada do universode documentos bem como a separação dos documentos emcomunidades.Como extensão deste trabalho sugiro que cada nó no graforeceba como atributo o seu rótulo e também a sumarizaçãoobtida através do algoritmo de sumarização.Fica claro que a abordagem usada neste trabalho é efe-tiva não apenas para a identificação de plágio como tambémpara  a  construção  de  caminhos  entre  documentos.  A  mo-delagem usada pode ser aplicada em contexto educacionaiscomo também pode ser estendida para outros domínios\"\n",
    "]\n",
    "\n",
    "tagged_data = [TaggedDocument(words=word_tokenize(_d.lower()), tags=[str(i)]) for i, _d in enumerate(data)]"
   ]
  },
  {
   "cell_type": "code",
   "execution_count": null,
   "metadata": {},
   "outputs": [],
   "source": [
    "tagged_data"
   ]
  },
  {
   "cell_type": "code",
   "execution_count": null,
   "metadata": {},
   "outputs": [],
   "source": [
    "max_epochs = 100\n",
    "vec_size = 80\n",
    "alpha = 0.025\n",
    "\n",
    "model = Doc2Vec(vector_size=vec_size,\n",
    "                alpha=alpha, \n",
    "                min_alpha=0.00025,\n",
    "                min_count=1,\n",
    "                dm =1)\n",
    "  \n",
    "model.build_vocab(tagged_data)\n",
    "\n",
    "for epoch in range(max_epochs):\n",
    "    #print('iteration {0}'.format(epoch))\n",
    "    model.train(tagged_data,\n",
    "                total_examples=model.corpus_count,\n",
    "                epochs=model.epochs)\n",
    "    # decrease the learning rate\n",
    "    model.alpha -= 0.0002\n",
    "    # fix the learning rate, no decay\n",
    "    model.min_alpha = model.alpha\n",
    "\n",
    "model.save(\"d2v.model\")\n",
    "print(\"Model Saved\")"
   ]
  },
  {
   "cell_type": "code",
   "execution_count": null,
   "metadata": {},
   "outputs": [],
   "source": [
    "model= Doc2Vec.load(\"d2v.model\")\n",
    "#to find the vector of a document which is not in training data\n",
    "test_data = word_tokenize(\"O verdadeiro conhecimento vem de dentro.\".lower())\n",
    "v1 = model.infer_vector(test_data)\n",
    "#print(v1)\n",
    "#print(model.wv.most_similar(positive=[v1]))\n",
    "\n",
    "\n",
    "sims = model.docvecs.most_similar(positive=[v1])\n",
    "\n",
    "print(sims)\n",
    "\n",
    "\n",
    "\n",
    "\n",
    "# to find most similar doc using tags\n",
    "similar_doc = model.docvecs.most_similar('20')\n",
    "#print(similar_doc)\n",
    "\n",
    "\n",
    "# to find vector of doc in training data using tags or in other words, printing the vector of document at index 1 in training data\n",
    "#print(model.docvecs['1'])"
   ]
  },
  {
   "cell_type": "code",
   "execution_count": null,
   "metadata": {},
   "outputs": [],
   "source": []
  },
  {
   "cell_type": "code",
   "execution_count": null,
   "metadata": {},
   "outputs": [],
   "source": []
  },
  {
   "cell_type": "code",
   "execution_count": null,
   "metadata": {},
   "outputs": [],
   "source": []
  }
 ],
 "metadata": {
  "kernelspec": {
   "display_name": "Python 3",
   "language": "python",
   "name": "python3"
  },
  "language_info": {
   "codemirror_mode": {
    "name": "ipython",
    "version": 3
   },
   "file_extension": ".py",
   "mimetype": "text/x-python",
   "name": "python",
   "nbconvert_exporter": "python",
   "pygments_lexer": "ipython3",
   "version": "3.5.2"
  }
 },
 "nbformat": 4,
 "nbformat_minor": 2
}
