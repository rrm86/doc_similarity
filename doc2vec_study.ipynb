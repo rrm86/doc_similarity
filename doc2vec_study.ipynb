{
 "cells": [
  {
   "cell_type": "code",
   "execution_count": 2,
   "metadata": {},
   "outputs": [
    {
     "name": "stdout",
     "output_type": "stream",
     "text": [
      "[nltk_data] Downloading package punkt to /home/ronnald/nltk_data...\n",
      "[nltk_data]   Package punkt is already up-to-date!\n"
     ]
    },
    {
     "data": {
      "text/plain": [
       "True"
      ]
     },
     "execution_count": 2,
     "metadata": {},
     "output_type": "execute_result"
    }
   ],
   "source": [
    "from gensim.models.doc2vec import Doc2Vec, TaggedDocument\n",
    "from nltk.tokenize import word_tokenize\n",
    "import nltk\n",
    "nltk.download('punkt')"
   ]
  },
  {
   "cell_type": "code",
   "execution_count": 3,
   "metadata": {},
   "outputs": [],
   "source": [
    "data = [\"E conhecereis a verdade e a verdade vos libertará.\",\n",
    "        \"Porque Deus amou o mundo de tal maneira que deu o seu Filho unigênito, para que todo aquele que n'Ele crê não pereça, mas tenha a vida eterna.\",\n",
    "        \"Pai, perdoa-lhes, porque não sabem o que fazem..\",\n",
    "        \"Eu sou a ressurreição e a vida. Quem crê em mim, ainda que morra, viverá; e quem vive e crê em mim nunca morrerá.\",\n",
    "        \"De que serve ao homem conquistar o mundo inteiro se perder a alma?\",\n",
    "        \"Ame seus inimigos, faça o bem para aqueles que te odeiam, abençoe aqueles que te amaldiçoam, reze por aqueles que te maltratam. Se alguém te bater no rosto, ofereça a outra face.\",\n",
    "        \"Quem quiser ser líder deve ser primeiro servo. Se você quiser liderar, deve servir.\",\n",
    "        \"A boca fala do que está cheio o coração.\",\n",
    "        \"Mas buscai primeiro o Reino de Deus, e a sua Justiça, e as demais coisas vos serão acrescentadas.\",\n",
    "        \"Pois que aproveita ao homem se ganhar o mundo inteiro e perder a sua alma? Ou que dará o homem em troca da sua vida?\",\n",
    "        \"O Senhor oculta algumas coisas aos sábios, mas as revela aos pequeninos.\",\n",
    "        \"Ame o próximo, como a ti mesmo.\",\n",
    "        \"Venham a mim, todos os que estão cansados e sobrecarregados, e eu lhes darei descanso. Tomem sobre vocês a minha carga e aprendam de mim, pois sou manso e humilde de coração e vocês encontrarão descanso interior. Pois a minha carga é suave e leve.\",\n",
    "        \"O olho é a lâmpada do corpo. Se teu olho é bom, todo o teu corpo se encherá de luz. Mas se ele é mau, todo teu corpo se encherá de escuridão. Se a luz que há em ti está apagada, imensa é a escuridão.\",\n",
    "        \"Segue o teu destino, Rega as tuas plantas, Ama as tuas rosas. O resto é a sombra De árvores alheias.\",\n",
    "        \"Já chorei ouvindo música e vendo fotos. Já liguei só pra escutar uma voz. Já me apaixonei por um sorriso.\",\n",
    "        \"Lamentar uma dor passada, no presente, é criar outra dor e sofrer novamente.\",\n",
    "        \"Não se mede o valor de um homem pelas suas roupas ou pelos bens que possui, o verdadeiro valor do homem é o seu caráter, suas ideias e a nobreza dos seus ideais.\",\n",
    "        \"Chorar velhos amigos que perdemos não é tão proveitoso e saudável como nos alegrarmos pelas novas aquisições de amigos.\",\n",
    "        \"A vida é uma peça de teatro que não permite ensaios. Por isso, cante, chore, dance, ria e viva intensamente, antes que a cortina se feche e a peça termine sem aplausos.\",\n",
    "        \"Ama a todos, confia em poucos, não faça mal a ninguém.\",\n",
    "        \"Do jeito em que o mundo anda, ser honesto equivale a ser escolhido entre dez mil.\",\n",
    "        \"Duvide do brilho das estrelas. Duvide do perfume de uma flor. Duvide de todas as verdades. Mas nunca duvide do meu amor.\",\n",
    "        \"Eu aprendi que não posso escolher como me sinto, mas posso escolher o que fazer a respeito.\",\n",
    "        \"O amor é a única loucura de um sábio e a única sabedoria de um tolo.\",\n",
    "        \"Nossas dúvidas são traidoras e nos fazem perder o que, com frequência, poderíamos ganhar, por simples medo de arriscar.\"       \n",
    "        \n",
    "]\n",
    "\n",
    "tagged_data = [TaggedDocument(words=word_tokenize(_d.lower()), tags=[str(i)]) for i, _d in enumerate(data)]"
   ]
  },
  {
   "cell_type": "code",
   "execution_count": 4,
   "metadata": {},
   "outputs": [
    {
     "data": {
      "text/plain": [
       "[TaggedDocument(words=['e', 'conhecereis', 'a', 'verdade', 'e', 'a', 'verdade', 'vos', 'libertará', '.'], tags=['0']),\n",
       " TaggedDocument(words=['porque', 'deus', 'amou', 'o', 'mundo', 'de', 'tal', 'maneira', 'que', 'deu', 'o', 'seu', 'filho', 'unigênito', ',', 'para', 'que', 'todo', 'aquele', 'que', \"n'ele\", 'crê', 'não', 'pereça', ',', 'mas', 'tenha', 'a', 'vida', 'eterna', '.'], tags=['1']),\n",
       " TaggedDocument(words=['pai', ',', 'perdoa-lhes', ',', 'porque', 'não', 'sabem', 'o', 'que', 'fazem..'], tags=['2']),\n",
       " TaggedDocument(words=['eu', 'sou', 'a', 'ressurreição', 'e', 'a', 'vida', '.', 'quem', 'crê', 'em', 'mim', ',', 'ainda', 'que', 'morra', ',', 'viverá', ';', 'e', 'quem', 'vive', 'e', 'crê', 'em', 'mim', 'nunca', 'morrerá', '.'], tags=['3']),\n",
       " TaggedDocument(words=['de', 'que', 'serve', 'ao', 'homem', 'conquistar', 'o', 'mundo', 'inteiro', 'se', 'perder', 'a', 'alma', '?'], tags=['4']),\n",
       " TaggedDocument(words=['ame', 'seus', 'inimigos', ',', 'faça', 'o', 'bem', 'para', 'aqueles', 'que', 'te', 'odeiam', ',', 'abençoe', 'aqueles', 'que', 'te', 'amaldiçoam', ',', 'reze', 'por', 'aqueles', 'que', 'te', 'maltratam', '.', 'se', 'alguém', 'te', 'bater', 'no', 'rosto', ',', 'ofereça', 'a', 'outra', 'face', '.'], tags=['5']),\n",
       " TaggedDocument(words=['quem', 'quiser', 'ser', 'líder', 'deve', 'ser', 'primeiro', 'servo', '.', 'se', 'você', 'quiser', 'liderar', ',', 'deve', 'servir', '.'], tags=['6']),\n",
       " TaggedDocument(words=['a', 'boca', 'fala', 'do', 'que', 'está', 'cheio', 'o', 'coração', '.'], tags=['7']),\n",
       " TaggedDocument(words=['mas', 'buscai', 'primeiro', 'o', 'reino', 'de', 'deus', ',', 'e', 'a', 'sua', 'justiça', ',', 'e', 'as', 'demais', 'coisas', 'vos', 'serão', 'acrescentadas', '.'], tags=['8']),\n",
       " TaggedDocument(words=['pois', 'que', 'aproveita', 'ao', 'homem', 'se', 'ganhar', 'o', 'mundo', 'inteiro', 'e', 'perder', 'a', 'sua', 'alma', '?', 'ou', 'que', 'dará', 'o', 'homem', 'em', 'troca', 'da', 'sua', 'vida', '?'], tags=['9']),\n",
       " TaggedDocument(words=['o', 'senhor', 'oculta', 'algumas', 'coisas', 'aos', 'sábios', ',', 'mas', 'as', 'revela', 'aos', 'pequeninos', '.'], tags=['10']),\n",
       " TaggedDocument(words=['ame', 'o', 'próximo', ',', 'como', 'a', 'ti', 'mesmo', '.'], tags=['11']),\n",
       " TaggedDocument(words=['venham', 'a', 'mim', ',', 'todos', 'os', 'que', 'estão', 'cansados', 'e', 'sobrecarregados', ',', 'e', 'eu', 'lhes', 'darei', 'descanso', '.', 'tomem', 'sobre', 'vocês', 'a', 'minha', 'carga', 'e', 'aprendam', 'de', 'mim', ',', 'pois', 'sou', 'manso', 'e', 'humilde', 'de', 'coração', 'e', 'vocês', 'encontrarão', 'descanso', 'interior', '.', 'pois', 'a', 'minha', 'carga', 'é', 'suave', 'e', 'leve', '.'], tags=['12']),\n",
       " TaggedDocument(words=['o', 'olho', 'é', 'a', 'lâmpada', 'do', 'corpo', '.', 'se', 'teu', 'olho', 'é', 'bom', ',', 'todo', 'o', 'teu', 'corpo', 'se', 'encherá', 'de', 'luz', '.', 'mas', 'se', 'ele', 'é', 'mau', ',', 'todo', 'teu', 'corpo', 'se', 'encherá', 'de', 'escuridão', '.', 'se', 'a', 'luz', 'que', 'há', 'em', 'ti', 'está', 'apagada', ',', 'imensa', 'é', 'a', 'escuridão', '.'], tags=['13']),\n",
       " TaggedDocument(words=['segue', 'o', 'teu', 'destino', ',', 'rega', 'as', 'tuas', 'plantas', ',', 'ama', 'as', 'tuas', 'rosas', '.', 'o', 'resto', 'é', 'a', 'sombra', 'de', 'árvores', 'alheias', '.'], tags=['14']),\n",
       " TaggedDocument(words=['já', 'chorei', 'ouvindo', 'música', 'e', 'vendo', 'fotos', '.', 'já', 'liguei', 'só', 'pra', 'escutar', 'uma', 'voz', '.', 'já', 'me', 'apaixonei', 'por', 'um', 'sorriso', '.'], tags=['15']),\n",
       " TaggedDocument(words=['lamentar', 'uma', 'dor', 'passada', ',', 'no', 'presente', ',', 'é', 'criar', 'outra', 'dor', 'e', 'sofrer', 'novamente', '.'], tags=['16']),\n",
       " TaggedDocument(words=['não', 'se', 'mede', 'o', 'valor', 'de', 'um', 'homem', 'pelas', 'suas', 'roupas', 'ou', 'pelos', 'bens', 'que', 'possui', ',', 'o', 'verdadeiro', 'valor', 'do', 'homem', 'é', 'o', 'seu', 'caráter', ',', 'suas', 'ideias', 'e', 'a', 'nobreza', 'dos', 'seus', 'ideais', '.'], tags=['17']),\n",
       " TaggedDocument(words=['chorar', 'velhos', 'amigos', 'que', 'perdemos', 'não', 'é', 'tão', 'proveitoso', 'e', 'saudável', 'como', 'nos', 'alegrarmos', 'pelas', 'novas', 'aquisições', 'de', 'amigos', '.'], tags=['18']),\n",
       " TaggedDocument(words=['a', 'vida', 'é', 'uma', 'peça', 'de', 'teatro', 'que', 'não', 'permite', 'ensaios', '.', 'por', 'isso', ',', 'cante', ',', 'chore', ',', 'dance', ',', 'ria', 'e', 'viva', 'intensamente', ',', 'antes', 'que', 'a', 'cortina', 'se', 'feche', 'e', 'a', 'peça', 'termine', 'sem', 'aplausos', '.'], tags=['19']),\n",
       " TaggedDocument(words=['ama', 'a', 'todos', ',', 'confia', 'em', 'poucos', ',', 'não', 'faça', 'mal', 'a', 'ninguém', '.'], tags=['20']),\n",
       " TaggedDocument(words=['do', 'jeito', 'em', 'que', 'o', 'mundo', 'anda', ',', 'ser', 'honesto', 'equivale', 'a', 'ser', 'escolhido', 'entre', 'dez', 'mil', '.'], tags=['21']),\n",
       " TaggedDocument(words=['duvide', 'do', 'brilho', 'das', 'estrelas', '.', 'duvide', 'do', 'perfume', 'de', 'uma', 'flor', '.', 'duvide', 'de', 'todas', 'as', 'verdades', '.', 'mas', 'nunca', 'duvide', 'do', 'meu', 'amor', '.'], tags=['22']),\n",
       " TaggedDocument(words=['eu', 'aprendi', 'que', 'não', 'posso', 'escolher', 'como', 'me', 'sinto', ',', 'mas', 'posso', 'escolher', 'o', 'que', 'fazer', 'a', 'respeito', '.'], tags=['23']),\n",
       " TaggedDocument(words=['o', 'amor', 'é', 'a', 'única', 'loucura', 'de', 'um', 'sábio', 'e', 'a', 'única', 'sabedoria', 'de', 'um', 'tolo', '.'], tags=['24']),\n",
       " TaggedDocument(words=['nossas', 'dúvidas', 'são', 'traidoras', 'e', 'nos', 'fazem', 'perder', 'o', 'que', ',', 'com', 'frequência', ',', 'poderíamos', 'ganhar', ',', 'por', 'simples', 'medo', 'de', 'arriscar', '.'], tags=['25'])]"
      ]
     },
     "execution_count": 4,
     "metadata": {},
     "output_type": "execute_result"
    }
   ],
   "source": [
    "tagged_data"
   ]
  },
  {
   "cell_type": "code",
   "execution_count": 62,
   "metadata": {},
   "outputs": [
    {
     "name": "stdout",
     "output_type": "stream",
     "text": [
      "Model Saved\n"
     ]
    }
   ],
   "source": [
    "max_epochs = 100\n",
    "vec_size = 80\n",
    "alpha = 0.025\n",
    "\n",
    "model = Doc2Vec(vector_size=vec_size,\n",
    "                alpha=alpha, \n",
    "                min_alpha=0.00025,\n",
    "                min_count=1,\n",
    "                dm =1)\n",
    "  \n",
    "model.build_vocab(tagged_data)\n",
    "\n",
    "for epoch in range(max_epochs):\n",
    "    #print('iteration {0}'.format(epoch))\n",
    "    model.train(tagged_data,\n",
    "                total_examples=model.corpus_count,\n",
    "                epochs=model.epochs)\n",
    "    # decrease the learning rate\n",
    "    model.alpha -= 0.0002\n",
    "    # fix the learning rate, no decay\n",
    "    model.min_alpha = model.alpha\n",
    "\n",
    "model.save(\"d2v.model\")\n",
    "print(\"Model Saved\")"
   ]
  },
  {
   "cell_type": "code",
   "execution_count": 65,
   "metadata": {},
   "outputs": [
    {
     "name": "stdout",
     "output_type": "stream",
     "text": [
      "[('13', 0.7325078248977661), ('17', 0.620990514755249), ('14', 0.5979522466659546), ('11', 0.5863869786262512), ('18', 0.572767436504364), ('24', 0.568946361541748), ('22', 0.5459575653076172), ('7', 0.541913628578186), ('6', 0.5408174991607666), ('10', 0.5149492025375366)]\n"
     ]
    },
    {
     "name": "stderr",
     "output_type": "stream",
     "text": [
      "/home/ronnald/dev/lib/python3.6/site-packages/gensim/matutils.py:737: FutureWarning: Conversion of the second argument of issubdtype from `int` to `np.signedinteger` is deprecated. In future, it will be treated as `np.int64 == np.dtype(int).type`.\n",
      "  if np.issubdtype(vec.dtype, np.int):\n"
     ]
    }
   ],
   "source": [
    "model= Doc2Vec.load(\"d2v.model\")\n",
    "#to find the vector of a document which is not in training data\n",
    "test_data = word_tokenize(\"O verdadeiro conhecimento vem de dentro.\".lower())\n",
    "v1 = model.infer_vector(test_data)\n",
    "#print(v1)\n",
    "#print(model.wv.most_similar(positive=[v1]))\n",
    "\n",
    "\n",
    "sims = model.docvecs.most_similar(positive=[v1])\n",
    "\n",
    "print(sims)\n",
    "\n",
    "\n",
    "\n",
    "\n",
    "# to find most similar doc using tags\n",
    "similar_doc = model.docvecs.most_similar('20')\n",
    "#print(similar_doc)\n",
    "\n",
    "\n",
    "# to find vector of doc in training data using tags or in other words, printing the vector of document at index 1 in training data\n",
    "#print(model.docvecs['1'])"
   ]
  },
  {
   "cell_type": "code",
   "execution_count": null,
   "metadata": {},
   "outputs": [],
   "source": []
  },
  {
   "cell_type": "code",
   "execution_count": null,
   "metadata": {},
   "outputs": [],
   "source": []
  }
 ],
 "metadata": {
  "kernelspec": {
   "display_name": "Python 3",
   "language": "python",
   "name": "python3"
  },
  "language_info": {
   "codemirror_mode": {
    "name": "ipython",
    "version": 3
   },
   "file_extension": ".py",
   "mimetype": "text/x-python",
   "name": "python",
   "nbconvert_exporter": "python",
   "pygments_lexer": "ipython3",
   "version": "3.6.5"
  }
 },
 "nbformat": 4,
 "nbformat_minor": 2
}
