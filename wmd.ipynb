{
 "cells": [
  {
   "cell_type": "code",
   "execution_count": 1,
   "metadata": {},
   "outputs": [
    {
     "name": "stdout",
     "output_type": "stream",
     "text": [
      "[nltk_data] Downloading package punkt to /home/ronnald/nltk_data...\n",
      "[nltk_data]   Package punkt is already up-to-date!\n"
     ]
    },
    {
     "data": {
      "text/plain": [
       "True"
      ]
     },
     "execution_count": 1,
     "metadata": {},
     "output_type": "execute_result"
    }
   ],
   "source": [
    "from os import listdir\n",
    "from os.path import isfile, join\n",
    "import gensim\n",
    "from gensim.models.doc2vec import Doc2Vec, TaggedDocument\n",
    "import nltk\n",
    "from nltk.tokenize import word_tokenize\n",
    "import pickle\n",
    "from gensim.similarities import WmdSimilarity\n",
    "from gensim.summarization.summarizer import summarize\n",
    "nltk.download('punkt')"
   ]
  },
  {
   "cell_type": "code",
   "execution_count": 2,
   "metadata": {},
   "outputs": [],
   "source": [
    "with open('label_content', 'rb') as f:\n",
    "    labelContent = pickle.load(f)"
   ]
  },
  {
   "cell_type": "code",
   "execution_count": 3,
   "metadata": {},
   "outputs": [],
   "source": [
    "tagged_data = [TaggedDocument(words=word_tokenize(content.lower()), tags=[str(label)]) for label, content in labelContent.items()]"
   ]
  },
  {
   "cell_type": "code",
   "execution_count": 4,
   "metadata": {},
   "outputs": [],
   "source": [
    "max_epochs = 10\n",
    "vec_size = 100#neurons\n",
    "alpha = 0.025\n",
    "window = 3\n",
    "\n",
    "model = Doc2Vec(vector_size=vec_size,\n",
    "                alpha=alpha, \n",
    "                min_alpha=0.00025,\n",
    "                min_count=1,\n",
    "                dm =1,\n",
    "                window = window,binary=True)\n",
    "  \n",
    "model.build_vocab(tagged_data)\n",
    "\n"
   ]
  },
  {
   "cell_type": "code",
   "execution_count": 5,
   "metadata": {},
   "outputs": [
    {
     "name": "stdout",
     "output_type": "stream",
     "text": [
      "iteration 0\n",
      "iteration 1\n",
      "iteration 2\n",
      "iteration 3\n",
      "iteration 4\n",
      "iteration 5\n",
      "iteration 6\n",
      "iteration 7\n",
      "iteration 8\n",
      "iteration 9\n"
     ]
    }
   ],
   "source": [
    "for epoch in range(max_epochs):\n",
    "    print('iteration {0}'.format(epoch))\n",
    "    model.train(tagged_data,\n",
    "                total_examples=model.corpus_count,\n",
    "                epochs=model.epochs)\n",
    "    # decrease the learning rate\n",
    "    model.alpha -= 0.0002\n",
    "    # fix the learning rate, no decay\n",
    "    #model.min_alpha = model.alpha"
   ]
  },
  {
   "cell_type": "code",
   "execution_count": 6,
   "metadata": {},
   "outputs": [],
   "source": [
    "def parseRelations(doc,most_similar):\n",
    "    #Get top 5\n",
    "    docRelation[doc] = {}\n",
    "    for i in range(0,5):\n",
    "        doc2,rel = most_similar[i]\n",
    "        docRelation[doc][doc2]={'weight':rel}"
   ]
  },
  {
   "cell_type": "code",
   "execution_count": 9,
   "metadata": {},
   "outputs": [
    {
     "name": "stderr",
     "output_type": "stream",
     "text": [
      "/home/ronnald/dev/lib/python3.5/site-packages/gensim/matutils.py:737: FutureWarning: Conversion of the second argument of issubdtype from `int` to `np.signedinteger` is deprecated. In future, it will be treated as `np.int64 == np.dtype(int).type`.\n",
      "  if np.issubdtype(vec.dtype, np.int):\n"
     ]
    }
   ],
   "source": [
    "docRelation ={}\n",
    "for i in range(0,len(tagged_data)):\n",
    "    if(model.docvecs.most_similar(i)[0][1] > 0.65):\n",
    "        parseRelations(str(tagged_data[i][1][0]),model.docvecs.most_similar(i))\n",
    "        \n",
    "with open('graph', 'wb') as f:\n",
    "        pickle.dump(docRelation, f)\n"
   ]
  },
  {
   "cell_type": "code",
   "execution_count": 10,
   "metadata": {},
   "outputs": [],
   "source": [
    "to_measure = {}\n",
    "for i in range(0,len(tagged_data)):\n",
    "    to_measure[i] =tagged_data[i][1][0]"
   ]
  },
  {
   "cell_type": "code",
   "execution_count": 23,
   "metadata": {},
   "outputs": [
    {
     "name": "stdout",
     "output_type": "stream",
     "text": [
      "Took 405.84 seconds to run.\n"
     ]
    }
   ],
   "source": [
    "from time import time\n",
    "import numpy as np\n",
    "start = time()\n",
    "\n",
    "Jict = {}\n",
    "distance =np.zeros(shape=(len(to_measure),len(to_measure)))\n",
    "\n",
    "for i in range(0,len(to_measure)):\n",
    "    Jict[to_measure[i]] = {}\n",
    "    for j in range(0,len(to_measure)):\n",
    "\n",
    "        rel = model.wv.wmdistance(document1=to_measure[i],document2=to_measure[j])\n",
    "        Jict[to_measure[i]][to_measure[j]] = {'weight': rel}\n",
    "        distance[i][j] = rel\n",
    "\n",
    "print('Took %.2f seconds to run.' % (time() - start))"
   ]
  },
  {
   "cell_type": "code",
   "execution_count": 32,
   "metadata": {},
   "outputs": [],
   "source": [
    "for i in range(0,len(to_measure)):\n",
    "    for j in range(0,len(to_measure)):\n",
    "        if((distance[i][j]< 0.1) and (i!=j) ):\n",
    "            break\n",
    "            #print(i,j)"
   ]
  },
  {
   "cell_type": "code",
   "execution_count": 13,
   "metadata": {},
   "outputs": [
    {
     "name": "stdout",
     "output_type": "stream",
     "text": [
      "2018-2-350190\n",
      "2018-1-302059\n"
     ]
    }
   ],
   "source": [
    "print(to_measure[1])\n",
    "print(to_measure[66])"
   ]
  },
  {
   "cell_type": "code",
   "execution_count": 20,
   "metadata": {},
   "outputs": [
    {
     "name": "stdout",
     "output_type": "stream",
     "text": [
      "['2018-2-350190']\n",
      "['2018-1-302059']\n"
     ]
    }
   ],
   "source": [
    "print(tagged_data[1][1])\n",
    "print(tagged_data[66][1])"
   ]
  },
  {
   "cell_type": "code",
   "execution_count": 14,
   "metadata": {},
   "outputs": [],
   "source": [
    "with open('label_sentence', 'rb') as f:\n",
    "    labelSentence = pickle.load(f)"
   ]
  },
  {
   "cell_type": "code",
   "execution_count": 15,
   "metadata": {},
   "outputs": [
    {
     "name": "stdout",
     "output_type": "stream",
     "text": [
      "O brasileiro tem a necessidade de ampliar seu campo de protecao, tendo um duplo pertencimento de acordo com suas expectativas pessoais (experimentacao religiosa e pessoal) e aquilo que e imposto pela sociedade como, por exemplo, uma tradicao familiar.\n"
     ]
    }
   ],
   "source": [
    "print(summarize(labelSentence[\"2018-2-350190\"],ratio=0.2))"
   ]
  },
  {
   "cell_type": "code",
   "execution_count": 16,
   "metadata": {},
   "outputs": [
    {
     "name": "stdout",
     "output_type": "stream",
     "text": [
      "Por isso, e importante que a religiao forneca um significado e sentido para as pessoas.\n",
      "Ademais, Peter Berger fala sobre como as religioes tem potencial de situar e integrar as experiencias num significado, favorecendo um referencial importante para a construcao e manutencao de um ideal.\n",
      "Alem disso, apresenta caracteristicas e desafios para o crescente pluralismo no campo religioso brasileiro como sua democratizacao, a liberdade religiosa, a mobilidade religiosa, a escolha religiosa.\n",
      "Falamos sobre a educacao intercultural, isto e, aquela que orienta sobre os processos de reconhecimento do direito a diferenca e de luta contra todas as formas de discriminacao e desigualdade social, que promove o dialogo entre pessoas com pensamentos e culturas diferentes, e sobre o dialogo ecumenico, ou seja, dialogo entre as igrejas cristas.\n",
      "Uma novidade para mim foi saber sobre a presenca de elementos do espiritualismo kardecista e do catolicismo popular na Umbanda e que e caracterizada por ser tipicamente brasileira, nascida na decada de 20 no Rio de Janeiro - religiao sincretica.\n",
      "Aprendemos, com a aula 2, como o dialogo entre as religioes e importante para se unirem e usarem a plataforma para falar dos problemas que afligem nossa sociedade.\n"
     ]
    }
   ],
   "source": [
    "print(summarize(labelSentence[\"2018-1-302059\"],ratio=0.2))"
   ]
  },
  {
   "cell_type": "code",
   "execution_count": 21,
   "metadata": {},
   "outputs": [],
   "source": [
    "with open('wmd', 'wb') as f:\n",
    "        pickle.dump(distance, f)\n"
   ]
  },
  {
   "cell_type": "code",
   "execution_count": 33,
   "metadata": {},
   "outputs": [],
   "source": [
    "with open('Jict', 'wb') as f:\n",
    "        pickle.dump(Jict, f)"
   ]
  },
  {
   "cell_type": "code",
   "execution_count": null,
   "metadata": {},
   "outputs": [],
   "source": []
  }
 ],
 "metadata": {
  "kernelspec": {
   "display_name": "Python 3",
   "language": "python",
   "name": "python3"
  },
  "language_info": {
   "codemirror_mode": {
    "name": "ipython",
    "version": 3
   },
   "file_extension": ".py",
   "mimetype": "text/x-python",
   "name": "python",
   "nbconvert_exporter": "python",
   "pygments_lexer": "ipython3",
   "version": "3.5.2"
  }
 },
 "nbformat": 4,
 "nbformat_minor": 2
}
