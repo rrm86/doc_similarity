{
 "cells": [
  {
   "cell_type": "code",
   "execution_count": 1,
   "metadata": {},
   "outputs": [
    {
     "name": "stdout",
     "output_type": "stream",
     "text": [
      "[nltk_data] Downloading package punkt to /home/ronnald/nltk_data...\n",
      "[nltk_data]   Package punkt is already up-to-date!\n"
     ]
    },
    {
     "data": {
      "text/plain": [
       "True"
      ]
     },
     "execution_count": 1,
     "metadata": {},
     "output_type": "execute_result"
    }
   ],
   "source": [
    "from os import listdir\n",
    "from os.path import isfile, join\n",
    "import gensim\n",
    "from gensim.models.doc2vec import Doc2Vec, TaggedDocument\n",
    "import nltk\n",
    "from nltk.tokenize import word_tokenize\n",
    "import pickle\n",
    "from gensim.similarities import WmdSimilarity\n",
    "from gensim.summarization.summarizer import summarize\n",
    "nltk.download('punkt')"
   ]
  },
  {
   "cell_type": "code",
   "execution_count": 3,
   "metadata": {},
   "outputs": [],
   "source": [
    "with open('label_content', 'rb') as f:\n",
    "    labelContent = pickle.load(f)"
   ]
  },
  {
   "cell_type": "code",
   "execution_count": 4,
   "metadata": {},
   "outputs": [],
   "source": [
    "tagged_data = [TaggedDocument(words=word_tokenize(content.lower()), tags=[str(label)]) for label, content in labelContent.items()]"
   ]
  },
  {
   "cell_type": "code",
   "execution_count": 5,
   "metadata": {},
   "outputs": [],
   "source": [
    "max_epochs = 10\n",
    "vec_size = 100#neurons\n",
    "alpha = 0.025\n",
    "window = 3\n",
    "\n",
    "model = Doc2Vec(vector_size=vec_size,\n",
    "                alpha=alpha, \n",
    "                min_alpha=0.00025,\n",
    "                min_count=1,\n",
    "                dm =1,\n",
    "                window = window,binary=True)\n",
    "  \n",
    "model.build_vocab(tagged_data)\n",
    "\n"
   ]
  },
  {
   "cell_type": "code",
   "execution_count": 6,
   "metadata": {},
   "outputs": [
    {
     "name": "stdout",
     "output_type": "stream",
     "text": [
      "iteration 0\n",
      "iteration 1\n",
      "iteration 2\n",
      "iteration 3\n",
      "iteration 4\n",
      "iteration 5\n",
      "iteration 6\n",
      "iteration 7\n",
      "iteration 8\n",
      "iteration 9\n"
     ]
    }
   ],
   "source": [
    "for epoch in range(max_epochs):\n",
    "    print('iteration {0}'.format(epoch))\n",
    "    model.train(tagged_data,\n",
    "                total_examples=model.corpus_count,\n",
    "                epochs=model.epochs)\n",
    "    # decrease the learning rate\n",
    "    model.alpha -= 0.0002\n",
    "    # fix the learning rate, no decay\n",
    "    #model.min_alpha = model.alpha"
   ]
  },
  {
   "cell_type": "code",
   "execution_count": 18,
   "metadata": {},
   "outputs": [],
   "source": []
  },
  {
   "cell_type": "code",
   "execution_count": null,
   "metadata": {},
   "outputs": [],
   "source": []
  },
  {
   "cell_type": "code",
   "execution_count": 7,
   "metadata": {},
   "outputs": [],
   "source": [
    "to_measure = {}\n",
    "for i in range(0,len(tagged_data)):\n",
    "    to_measure[i] =tagged_data[i][1][0]"
   ]
  },
  {
   "cell_type": "code",
   "execution_count": 24,
   "metadata": {},
   "outputs": [
    {
     "name": "stdout",
     "output_type": "stream",
     "text": [
      "Took 0.21 seconds to run.\n"
     ]
    }
   ],
   "source": [
    "from time import time\n",
    "import numpy as np\n",
    "start = time()\n",
    "\n",
    "Jict = {}\n",
    "distance =np.zeros(shape=(len(to_measure),len(to_measure)))\n",
    "\n",
    "for i in range(0,len(to_measure)):\n",
    "    Jict[to_measure[i]] = {}\n",
    "    for j in range(0,len(to_measure)):\n",
    "        rel = model.wv.wmdistance(document1=to_measure[i],document2=to_measure[j])\n",
    "        Jict[to_measure[i]][to_measure[j]] = {'weight': rel}\n",
    "        distance[i][j] = rel\n",
    "\n",
    "print('Took %.2f seconds to run.' % (time() - start))"
   ]
  },
  {
   "cell_type": "code",
   "execution_count": 32,
   "metadata": {},
   "outputs": [],
   "source": [
    "#Took 426.52 seconds to run."
   ]
  },
  {
   "cell_type": "code",
   "execution_count": 48,
   "metadata": {},
   "outputs": [
    {
     "name": "stdout",
     "output_type": "stream",
     "text": [
      "2017-2-257741\n",
      "2017-2-257756\n"
     ]
    }
   ],
   "source": [
    "print(to_measure[482])\n",
    "print(to_measure[395])"
   ]
  },
  {
   "cell_type": "code",
   "execution_count": 75,
   "metadata": {},
   "outputs": [
    {
     "name": "stdout",
     "output_type": "stream",
     "text": [
      "2018-1-302067\n",
      "['2017-1-182232']\n"
     ]
    }
   ],
   "source": [
    "print(tagged_data[11][1][0])\n",
    "print(tagged_data[357][1])"
   ]
  },
  {
   "cell_type": "code",
   "execution_count": 12,
   "metadata": {},
   "outputs": [],
   "source": [
    "with open('label_sentence', 'rb') as f:\n",
    "    labelSentence = pickle.load(f)"
   ]
  },
  {
   "cell_type": "code",
   "execution_count": 85,
   "metadata": {},
   "outputs": [
    {
     "name": "stdout",
     "output_type": "stream",
     "text": [
      "O cenario de conflitos religiosos e de intolerancia faz ainda menos sentido quando nos deparamos com informacoes, dados e estatisticas acerca da diversidade religiosa cada vez maior no Brasil e no mundo.\n",
      "Ao mesmo tempo em que observamos a crescente diversidade e pluralismo religioso no mundo, nos deparamos com o fenomeno de intolerancia religiosa.\n"
     ]
    }
   ],
   "source": [
    "print(summarize(labelSentence['2017-1-182232'],ratio=0.1))\n"
   ]
  },
  {
   "cell_type": "code",
   "execution_count": 86,
   "metadata": {},
   "outputs": [
    {
     "name": "stdout",
     "output_type": "stream",
     "text": [
      "O cenario de conflitos religiosos e de intolerancia faz ainda menos sentido quando nos deparamos com informacoes, dados e estatisticas acerca da diversidade religiosa cada vez maior no Brasil e no mundo.\n",
      "Contudo, inversamente, ao mesmo tempo em que observamos a crescente diversidade e pluralismo religioso no mundo, nos deparamos com o fenomeno de intolerancia religiosa.\n"
     ]
    }
   ],
   "source": [
    "print(summarize(labelSentence[\"2017-2-257741\"],ratio=0.1))\n"
   ]
  },
  {
   "cell_type": "code",
   "execution_count": 20,
   "metadata": {},
   "outputs": [],
   "source": [
    "with open('wmd', 'wb') as f:\n",
    "        pickle.dump(distance, f)\n"
   ]
  },
  {
   "cell_type": "code",
   "execution_count": 33,
   "metadata": {},
   "outputs": [],
   "source": [
    "with open('Jict', 'wb') as f:\n",
    "        pickle.dump(Jict, f)"
   ]
  },
  {
   "cell_type": "code",
   "execution_count": null,
   "metadata": {},
   "outputs": [],
   "source": []
  }
 ],
 "metadata": {
  "kernelspec": {
   "display_name": "Python 3",
   "language": "python",
   "name": "python3"
  },
  "language_info": {
   "codemirror_mode": {
    "name": "ipython",
    "version": 3
   },
   "file_extension": ".py",
   "mimetype": "text/x-python",
   "name": "python",
   "nbconvert_exporter": "python",
   "pygments_lexer": "ipython3",
   "version": "3.5.2"
  }
 },
 "nbformat": 4,
 "nbformat_minor": 2
}
