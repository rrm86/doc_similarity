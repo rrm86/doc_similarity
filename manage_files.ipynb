{
 "cells": [
  {
   "cell_type": "code",
   "execution_count": 1,
   "metadata": {},
   "outputs": [],
   "source": [
    "from glob import glob\n",
    "import matplotlib.pyplot as plt\n",
    "import seaborn as sns\n",
    "import docx\n",
    "from slugify import slugify\n",
    "import pickle\n",
    "from unicodedata import normalize"
   ]
  },
  {
   "cell_type": "code",
   "execution_count": 2,
   "metadata": {},
   "outputs": [],
   "source": [
    "def getFiles():\n",
    "    files = {\n",
    "    '2017_1_doc' : glob(\"docs/originals/2017.1/*.doc\"),\n",
    "    '2017_1_docx' : glob(\"docs/originals/2017.1/*.docx\"),\n",
    "    '2017_1_odt' : glob(\"docs/originals/2017.1/*.odt\"),\n",
    "    '2017_1_pdf' : glob(\"docs/originals/2017.1/*.pdf\"),\n",
    "    '2017_1_rtf' : glob(\"docs/originals/2017.1/*.rtf\"),\n",
    "    '2017_2_doc' : glob(\"docs/originals/2017.2/*.doc\"),\n",
    "    '2017_2_docx' : glob(\"docs/originals/2017.2/*.docx\"),\n",
    "    '2017_2_odt' : glob(\"docs/originals/2017.2/*.odt\"),\n",
    "    '2017_2_pdf' : glob(\"docs/originals/2017.2/*.pdf\"),\n",
    "    '2017_2_rtf' : glob(\"docs/originals/2017.2/*.rtf\"),\n",
    "    '2018_1_doc' : glob(\"docs/originals/2018.1/*.doc\"),\n",
    "    '2018_1_docx' : glob(\"docs/originals/2018.1/*.docx\"),\n",
    "    '2018_1_odt' : glob(\"docs/originals/2018.1/*.odt\"),\n",
    "    '2018_1_pdf' : glob(\"docs/originals/2018.1/*.pdf\"),\n",
    "    '2018_1_rtf' : glob(\"docs/originals/2018.1/*.rtf\"),  \n",
    "    }\n",
    "    return files\n",
    "\n",
    "    "
   ]
  },
  {
   "cell_type": "code",
   "execution_count": 3,
   "metadata": {},
   "outputs": [],
   "source": [
    "def plotFiles(files):\n",
    "    name=[]\n",
    "    count_files = []\n",
    "    for x in sorted(files):\n",
    "        name.append(x)\n",
    "        count_files.append(len(files[x]))\n",
    "        #print(x, len(files[x]),\"\\n\")\n",
    "    plt.figure(figsize=(15,8))\n",
    "    fig = sns.barplot(name,count_files,palette='rocket');\n",
    "    fig.set_xticklabels(fig.get_xticklabels(), rotation=90)\n",
    "    fig.set_figure;\n",
    "    "
   ]
  },
  {
   "cell_type": "code",
   "execution_count": 2,
   "metadata": {},
   "outputs": [],
   "source": []
  },
  {
   "cell_type": "code",
   "execution_count": 4,
   "metadata": {},
   "outputs": [
    {
     "data": {
      "image/png": "[encoded data removed]",
      "text/plain": [
       "<Figure size 1080x576 with 1 Axes>"
      ]
     },
     "metadata": {
      "needs_background": "light"
     },
     "output_type": "display_data"
    }
   ],
   "source": [
    "files = getFiles()    \n",
    "plotFiles(files)"
   ]
  },
  {
   "cell_type": "code",
   "execution_count": null,
   "metadata": {},
   "outputs": [],
   "source": []
  },
  {
   "cell_type": "code",
   "execution_count": null,
   "metadata": {},
   "outputs": [],
   "source": []
  },
  {
   "cell_type": "code",
   "execution_count": 16,
   "metadata": {},
   "outputs": [],
   "source": [
    "def getText(filename):\n",
    "    doc = docx.Document(filename)\n",
    "    fullText = []\n",
    "    for para in doc.paragraphs:\n",
    "        fullText.append(normalize('NFKD', para.text).encode('ASCII', 'ignore').decode('ASCII'))\n",
    "    text = '\\n'.join(fullText)\n",
    "    return text[150:len(text)-50]"
   ]
  },
  {
   "cell_type": "code",
   "execution_count": 17,
   "metadata": {},
   "outputs": [],
   "source": [
    "def getLabel(title):\n",
    "    regex_pattern = r'[^0-9]+'\n",
    "    label = slugify(title ,max_length=13,regex_pattern=regex_pattern)\n",
    "    return label\n",
    "\n",
    "    "
   ]
  },
  {
   "cell_type": "code",
   "execution_count": 18,
   "metadata": {},
   "outputs": [],
   "source": [
    "targetFiles = ['2017_1_docx','2017_2_docx','2018_1_docx']\n",
    "label_content = {}\n",
    "for tF in targetFiles:\n",
    "    for i in range(0,len(files[tF])):\n",
    "        title = getLabel(files[tF][i])\n",
    "        text = getText(files[tF][i])\n",
    "        label_content[title] = text\n"
   ]
  },
  {
   "cell_type": "code",
   "execution_count": null,
   "metadata": {},
   "outputs": [],
   "source": [
    "\n"
   ]
  },
  {
   "cell_type": "code",
   "execution_count": 19,
   "metadata": {},
   "outputs": [],
   "source": [
    "with open('label_content', 'wb') as f:\n",
    "    pickle.dump(label_content, f)"
   ]
  },
  {
   "cell_type": "code",
   "execution_count": 20,
   "metadata": {},
   "outputs": [],
   "source": [
    "with open('label_content', 'rb') as f:\n",
    "    lc_2018_test = pickle.load(f)"
   ]
  },
  {
   "cell_type": "code",
   "execution_count": null,
   "metadata": {},
   "outputs": [],
   "source": []
  },
  {
   "cell_type": "code",
   "execution_count": null,
   "metadata": {},
   "outputs": [],
   "source": []
  }
 ],
 "metadata": {
  "kernelspec": {
   "display_name": "Python 3",
   "language": "python",
   "name": "python3"
  },
  "language_info": {
   "codemirror_mode": {
    "name": "ipython",
    "version": 3
   },
   "file_extension": ".py",
   "mimetype": "text/x-python",
   "name": "python",
   "nbconvert_exporter": "python",
   "pygments_lexer": "ipython3",
   "version": "3.5.2"
  }
 },
 "nbformat": 4,
 "nbformat_minor": 2
}
