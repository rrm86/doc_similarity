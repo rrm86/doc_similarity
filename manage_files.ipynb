{
 "cells": [
  {
   "cell_type": "code",
   "execution_count": 1,
   "metadata": {},
   "outputs": [],
   "source": [
    "from glob import glob\n",
    "import matplotlib.pyplot as plt\n",
    "import seaborn as sns\n",
    "import docx\n",
    "from slugify import slugify\n",
    "import pickle\n",
    "from unicodedata import normalize"
   ]
  },
  {
   "cell_type": "code",
   "execution_count": 2,
   "metadata": {},
   "outputs": [],
   "source": [
    "def getFiles():\n",
    "    files = {\n",
    "    '2017_1_doc' : glob(\"docs/originals/2017.1/*.doc\"),\n",
    "    '2017_1_docx' : glob(\"docs/originals/2017.1/*.docx\"),\n",
    "    '2017_1_odt' : glob(\"docs/originals/2017.1/*.odt\"),\n",
    "    '2017_1_pdf' : glob(\"docs/originals/2017.1/*.pdf\"),\n",
    "    '2017_1_rtf' : glob(\"docs/originals/2017.1/*.rtf\"),\n",
    "    '2017_2_doc' : glob(\"docs/originals/2017.2/*.doc\"),\n",
    "    '2017_2_docx' : glob(\"docs/originals/2017.2/*.docx\"),\n",
    "    '2017_2_odt' : glob(\"docs/originals/2017.2/*.odt\"),\n",
    "    '2017_2_pdf' : glob(\"docs/originals/2017.2/*.pdf\"),\n",
    "    '2017_2_rtf' : glob(\"docs/originals/2017.2/*.rtf\"),\n",
    "    '2018_1_doc' : glob(\"docs/originals/2018.1/*.doc\"),\n",
    "    '2018_1_docx' : glob(\"docs/originals/2018.1/*.docx\"),\n",
    "    '2018_1_odt' : glob(\"docs/originals/2018.1/*.odt\"),\n",
    "    '2018_1_pdf' : glob(\"docs/originals/2018.1/*.pdf\"),\n",
    "    '2018_1_rtf' : glob(\"docs/originals/2018.1/*.rtf\"),\n",
    "    '2018_2_doc' : glob(\"docs/originals/2018.2/*.doc\"),\n",
    "    '2018_2_docx' : glob(\"docs/originals/2018.2/*.docx\"),\n",
    "    '2018_2_odt' : glob(\"docs/originals/2018.2/*.odt\"),\n",
    "    '2018_2_pdf' : glob(\"docs/originals/2018.2/*.pdf\"),\n",
    "    '2018_2_rtf' : glob(\"docs/originals/2018.2/*.rtf\"), \n",
    "    }\n",
    "    return files\n",
    "\n",
    "    "
   ]
  },
  {
   "cell_type": "code",
   "execution_count": 3,
   "metadata": {},
   "outputs": [],
   "source": [
    "def plotFiles(files):\n",
    "    name=[]\n",
    "    count_files = []\n",
    "    for x in sorted(files):\n",
    "        name.append(x)\n",
    "        count_files.append(len(files[x]))\n",
    "        #print(x, len(files[x]),\"\\n\")\n",
    "    plt.figure(figsize=(15,8))\n",
    "    fig = sns.barplot(name,count_files,palette='rocket');\n",
    "    fig.set_xticklabels(fig.get_xticklabels(), rotation=90)\n",
    "    fig.set_figure;\n",
    "    "
   ]
  },
  {
   "cell_type": "code",
   "execution_count": null,
   "metadata": {},
   "outputs": [],
   "source": []
  },
  {
   "cell_type": "code",
   "execution_count": 4,
   "metadata": {},
   "outputs": [
    {
     "data": {
      "image/png": "[encoded data removed]",
      "text/plain": [
       "<Figure size 1080x576 with 1 Axes>"
      ]
     },
     "metadata": {
      "needs_background": "light"
     },
     "output_type": "display_data"
    }
   ],
   "source": [
    "files = getFiles()    \n",
    "plotFiles(files)"
   ]
  },
  {
   "cell_type": "code",
   "execution_count": 5,
   "metadata": {},
   "outputs": [],
   "source": [
    "targetFiles = ['2017_1_docx','2017_2_docx','2018_1_docx','2018_2_docx']"
   ]
  },
  {
   "cell_type": "code",
   "execution_count": 6,
   "metadata": {},
   "outputs": [],
   "source": [
    "def getSentences(filename):\n",
    "    doc = docx.Document(filename)\n",
    "    fullText = []\n",
    "    for para in doc.paragraphs:\n",
    "        fullText.append(normalize('NFKD', para.text).encode('ASCII', 'ignore').decode('ASCII'))\n",
    "    sentences = '\\n'.join(fullText)\n",
    "    return sentences[150:len(sentences)-50]"
   ]
  },
  {
   "cell_type": "code",
   "execution_count": 7,
   "metadata": {},
   "outputs": [],
   "source": [
    "def getText(filename):\n",
    "    doc = docx.Document(filename)\n",
    "    fullText = []\n",
    "    for para in doc.paragraphs:\n",
    "        fullText.append(para.text)\n",
    "    text = slugify('\\n'.join(fullText),lowercase=False, separator=\" \")\n",
    "    return text[100:len(text)-50]"
   ]
  },
  {
   "cell_type": "code",
   "execution_count": 8,
   "metadata": {},
   "outputs": [],
   "source": [
    "def getLabel(title):\n",
    "    regex_pattern = r'[^0-9]+'\n",
    "    label = slugify(title ,max_length=13,regex_pattern=regex_pattern)\n",
    "    return label\n",
    "\n",
    "    "
   ]
  },
  {
   "cell_type": "code",
   "execution_count": 9,
   "metadata": {},
   "outputs": [],
   "source": [
    "def writeLabelContent(targetFiles,files):\n",
    "    label_content = {}\n",
    "    for tF in targetFiles:\n",
    "        for i in range(0,len(files[tF])):\n",
    "            title = getLabel(files[tF][i])\n",
    "            text = getText(files[tF][i])\n",
    "            label_content[title] = text\n",
    "\n",
    "    with open('label_content', 'wb') as f:\n",
    "        pickle.dump(label_content, f)\n"
   ]
  },
  {
   "cell_type": "code",
   "execution_count": 10,
   "metadata": {},
   "outputs": [],
   "source": [
    "def writeLabelSentence(targetFiles,files):\n",
    "    label_sentence = {}\n",
    "    for tF in targetFiles:\n",
    "        for i in range(0,len(files[tF])):\n",
    "            title = getLabel(files[tF][i])\n",
    "            text = getSentences(files[tF][i])\n",
    "            label_sentence[title] = text\n",
    "\n",
    "    with open('label_sentence', 'wb') as f:\n",
    "        pickle.dump(label_sentence, f)\n"
   ]
  },
  {
   "cell_type": "code",
   "execution_count": 11,
   "metadata": {},
   "outputs": [],
   "source": [
    "writeLabelContent(targetFiles,files)\n",
    "writeLabelSentence(targetFiles,files)"
   ]
  },
  {
   "cell_type": "code",
   "execution_count": 12,
   "metadata": {},
   "outputs": [],
   "source": [
    "with open('label_content', 'rb') as f:\n",
    "    lc_2018_test = pickle.load(f)"
   ]
  },
  {
   "cell_type": "code",
   "execution_count": null,
   "metadata": {},
   "outputs": [],
   "source": [
    "lc_2018_test"
   ]
  },
  {
   "cell_type": "code",
   "execution_count": 13,
   "metadata": {},
   "outputs": [],
   "source": [
    "with open('label_sentence', 'rb') as f:\n",
    "    ls_2018_test = pickle.load(f)"
   ]
  },
  {
   "cell_type": "code",
   "execution_count": null,
   "metadata": {},
   "outputs": [],
   "source": [
    "ls_2018_test"
   ]
  },
  {
   "cell_type": "code",
   "execution_count": null,
   "metadata": {},
   "outputs": [],
   "source": []
  }
 ],
 "metadata": {
  "kernelspec": {
   "display_name": "Python 3",
   "language": "python",
   "name": "python3"
  },
  "language_info": {
   "codemirror_mode": {
    "name": "ipython",
    "version": 3
   },
   "file_extension": ".py",
   "mimetype": "text/x-python",
   "name": "python",
   "nbconvert_exporter": "python",
   "pygments_lexer": "ipython3",
   "version": "3.5.2"
  }
 },
 "nbformat": 4,
 "nbformat_minor": 2
}
